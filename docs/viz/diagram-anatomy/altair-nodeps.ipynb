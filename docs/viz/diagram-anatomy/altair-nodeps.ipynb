{
 "cells": [
  {
   "cell_type": "markdown",
   "metadata": {},
   "source": [
    "# Altair keine Abhängigkeiten"
   ]
  },
  {
   "cell_type": "code",
   "execution_count": 1,
   "metadata": {},
   "outputs": [
    {
     "data": {
      "text/html": [
       "<svg width=\"0\" height=\"0\" version=\"1.1\" xmlns=\"http://www.w3.org/2000/svg\" xmlns:xlink=\"http://www.w3.org/1999/xlink\" xml:space=\"preserve\" xmlns:serif=\"http://www.serif.com/\" style=\"fill-rule:evenodd;clip-rule:evenodd;\">\n",
       "  <defs>\n",
       "    <pattern id=\"dotspattern\" x=\"10\" y=\"10\" width=\"159.002264\" height=\"183.6\" patternUnits=\"userSpaceOnUse\" patternTransform=\"scale(0.2)\">\n",
       "      <circle id=\"base-dot\" cx=\"79.501132\" cy=\"91.8\" r=\"44.5459745\" fill=\"#753bbd\"/>\n",
       "      <use href=\"#base-dot\" transform=\"translate(-79.501132,45.9)\" />\n",
       "      <use href=\"#base-dot\" transform=\"translate(-79.501132,-45.9)\" />\n",
       "      <use href=\"#base-dot\" transform=\"translate(79.501132,45.9)\" />\n",
       "      <use href=\"#base-dot\" transform=\"translate(79.501132,-45.9)\" />\n",
       "      <use href=\"#base-dot\" transform=\"translate(0,91.8)\" />\n",
       "      <use href=\"#base-dot\" transform=\"translate(0,-91.8)\" />\n",
       "    </pattern>\n",
       "    <pattern id=\"diamondpattern\" x=\"0\" y=\"0\" width=\"98.468598\" height=\"147.157176\" patternUnits=\"userSpaceOnUse\" patternTransform=\"scale(0.2)\">\n",
       "      <path id=\"base-diamond\" d=\"M49.234,5.327L94.904,73.579L49.234,141.83L3.564,73.579L49.234,5.327Z\" style=\"fill:rgb(18,159,212);\"/>\n",
       "      <use href=\"#base-diamond\" transform=\"translate(-49.234299,73.578588)\" />\n",
       "      <use href=\"#base-diamond\" transform=\"translate(49.234299,73.578588)\" />\n",
       "      <use href=\"#base-diamond\" transform=\"translate(-49.234299,-73.578588)\" />\n",
       "      <use href=\"#base-diamond\" transform=\"translate(49.234299,-73.578588)\" />\n",
       "    </pattern>\n",
       "    <pattern id=\"stripepattern\" x=\"0\" y=\"0\" width=\"200\" height=\"50\" patternUnits=\"userSpaceOnUse\" patternTransform=\"scale(0.2)\">\n",
       "      <rect id=\"stripe-base\" x=\"0\" y=\"0\" width=\"200\" height=\"42.5\" fill=\"#757575\"/>\n",
       "    </pattern>\n",
       "    <pattern id=\"tristarpattern\" x=\"0\" y=\"0\" width=\"163.75391\" height=\"94.588954\" patternUnits=\"userSpaceOnUse\" patternTransform=\"scale(0.2)\">\n",
       "      <path id=\"base-tristar1\" transform=\"translate(-48.984362,0)\" d=\"M24.492,56.562L0,42.422L0,14.141L24.492,0L48.984,14.141L73.477,0L97.969,14.141L97.969,42.422L73.477,56.562L73.477,84.843L48.984,98.984L24.492,84.843L24.492,56.562Z\" style=\"fill:rgb(76,167,43);\"/>\n",
       "      <path id=\"base-tristar2\" transform=\"translate(-48.984362,0)\" d=\"M155.353,47.316L179.846,61.457L179.846,89.738L155.353,103.879L130.861,89.738L106.369,103.879L81.877,89.738L81.877,61.457L106.369,47.316L106.369,19.035L130.861,4.895L155.353,19.035L155.353,47.316Z\" style=\"fill:rgb(76,167,43);\"/>\n",
       "      <use href=\"#base-tristar1\" transform=\"translate(163.75391,0)\"/>\n",
       "      <use href=\"#base-tristar1\" transform=\"translate(163.75391,-94.588954)\"/>\n",
       "      <use href=\"#base-tristar1\" transform=\"translate(0,-94.588954)\"/>\n",
       "      <use href=\"#base-tristar2\" transform=\"translate(0,-94.588954)\" />\n",
       "    </pattern>\n",
       "    <pattern id=\"squarepattern\" x=\"0\" y=\"0\" width=\"85.029182\" height=\"85.029182\" patternUnits=\"userSpaceOnUse\" patternTransform=\"scale(0.2)\">\n",
       "      <rect x=\"0\" y=\"0\" width=\"78.955669\" height=\"78.955669\" fill=\"#BD0F77\"/>\n",
       "    </pattern>\n",
       "    <pattern id=\"trianglepattern\" x=\"0\" y=\"0\" width=\"133.725\" height=\"231.618494\" patternUnits=\"userSpaceOnUse\" patternTransform=\"scale(0.2)\">\n",
       "      <path id=\"base-triangle\" d=\"M-0,103.923L60,0L-60,0L-0,103.923Z\" style=\"fill:rgb(205,132,2);\"/>\n",
       "      <use href=\"#base-triangle\" transform=\"translate(66.8625,115.809247)\" />\n",
       "      <use href=\"#base-triangle\" transform=\"translate(66.8625,107.885115) rotate(180)\" />\n",
       "      <use href=\"#base-triangle\" transform=\"translate(133.725,0)\" />\n",
       "      <use href=\"#base-triangle\" transform=\"translate(133.725,223.694362) rotate(180)\" />\n",
       "      <use href=\"#base-triangle\" transform=\"translate(0,223.694362) rotate(180)\" />\n",
       "    </pattern>\n",
       "    <pattern id=\"crosspattern\" x=\"0\" y=\"0\" width=\"86.166304\" height=\"86.166304\" patternUnits=\"userSpaceOnUse\" patternTransform=\"rotate(16.84402287240401) scale(0.2)\">\n",
       "      <path id=\"base-cross\" d=\"M9.427,-55.029L40.559,-38.367L23.897,-7.235L55.029,9.427L38.367,40.559L7.235,23.897L-9.427,55.029L-40.559,38.367L-23.897,7.235L-55.029,-9.427L-38.367,-40.559L-7.235,-23.897L9.427,-55.029Z\" style=\"fill:rgb(222,40,23);\"/>\n",
       "      <use href=\"#base-cross\" transform=\"translate(86.166304,0)\"/>\n",
       "      <use href=\"#base-cross\" transform=\"translate(86.166304,86.166304)\"/>\n",
       "      <use href=\"#base-cross\" transform=\"translate(0,86.166304)\"/>\n",
       "    </pattern>\n",
       "    <pattern id=\"spiralpattern\" x=\"0\" y=\"0\" width=\"141.305462\" height=\"80.921615\" patternUnits=\"userSpaceOnUse\" patternTransform=\"skewX(-10.342516055954842) scale(0.3)\"   style=\"fill-rule:evenodd;clip-rule:evenodd;stroke-linecap:round;stroke-linejoin:round;stroke-miterlimit:1;\">\n",
       "      <g id=\"base-spiral\" transform=\"matrix(0.571164,-0.0466398,0.152429,0.579676,-0.714298,6.4775)\">\n",
       "        <path d=\"M82.17,0C81.17,-44.829 44.829,-81.17 -0,-81.17C-40.754,-81.17 -73.791,-48.133 -73.791,-7.379C-73.791,28.846 -44.424,58.213 -8.199,58.213C23.498,58.213 49.194,32.517 49.194,0.82C49.194,-26.349 27.169,-48.374 -0,-48.374C-22.641,-48.374 -40.995,-30.02 -40.995,-7.379C-40.995,10.734 -26.312,25.417 -8.199,25.417C5.386,25.417 16.398,14.404 16.398,0.82C16.398,-8.236 9.056,-15.578 -0,-15.578C-4.528,-15.578 -8.199,-11.907 -8.199,-7.379\" style=\"fill:none;stroke:rgb(6,99,181);stroke-width:21.36px;\"/>\n",
       "      </g>\n",
       "      <use href=\"#base-spiral\" transform=\"translate(70.6527313,40.460808)\" />\n",
       "      <use href=\"#base-spiral\" transform=\"translate(141.305463,0)\" />\n",
       "      <use href=\"#base-spiral\" transform=\"translate(141.305463,80.921616)\" />\n",
       "      <use href=\"#base-spiral\" transform=\"translate(141.305463,80.921616)\" />\n",
       "      <use href=\"#base-spiral\" transform=\"translate(0,80.921616)\" />\n",
       "      <use href=\"#base-spiral\" transform=\"translate(70.652732,-40.460807)\" />\n",
       "    </pattern>\n",
       "    <pattern id=\"caretpattern\" x=\"0\" y=\"0\" width=\"199.471926\" height=\"70.537835\" patternUnits=\"userSpaceOnUse\" patternTransform=\"scale(0.2)\">\n",
       "        <path id=\"base-caret\" d=\"M-48.35,13.081L0,-35.269L48.35,13.081\" style=\"fill:none;stroke:rgb(0,133,120);stroke-width:45.59px;\"/>\n",
       "        <use href=\"#base-caret\" transform=\"translate(99.735963,35.268917)\" />\n",
       "        <use href=\"#base-caret\" transform=\"translate(99.735963,105.806752)\" />\n",
       "        <use href=\"#base-caret\" transform=\"translate(0,70.537835)\" />\n",
       "        <use href=\"#base-caret\" transform=\"translate(199.471926,0)\" />\n",
       "        <use href=\"#base-caret\" transform=\"translate(199.471926,70.537835)\" />\n",
       "    </pattern>\n",
       "  </defs>\n",
       "</svg>\n"
      ],
      "text/plain": [
       "<IPython.core.display.HTML object>"
      ]
     },
     "metadata": {},
     "output_type": "display_data"
    }
   ],
   "source": [
    "%%html\n",
    "<svg width=\"0\" height=\"0\" version=\"1.1\" xmlns=\"http://www.w3.org/2000/svg\" xmlns:xlink=\"http://www.w3.org/1999/xlink\" xml:space=\"preserve\" xmlns:serif=\"http://www.serif.com/\" style=\"fill-rule:evenodd;clip-rule:evenodd;\">\n",
    "  <defs>\n",
    "    <pattern id=\"dotspattern\" x=\"10\" y=\"10\" width=\"159.002264\" height=\"183.6\" patternUnits=\"userSpaceOnUse\" patternTransform=\"scale(0.2)\">\n",
    "      <circle id=\"base-dot\" cx=\"79.501132\" cy=\"91.8\" r=\"44.5459745\" fill=\"#753bbd\"/>\n",
    "      <use href=\"#base-dot\" transform=\"translate(-79.501132,45.9)\" />\n",
    "      <use href=\"#base-dot\" transform=\"translate(-79.501132,-45.9)\" />\n",
    "      <use href=\"#base-dot\" transform=\"translate(79.501132,45.9)\" />\n",
    "      <use href=\"#base-dot\" transform=\"translate(79.501132,-45.9)\" />\n",
    "      <use href=\"#base-dot\" transform=\"translate(0,91.8)\" />\n",
    "      <use href=\"#base-dot\" transform=\"translate(0,-91.8)\" />\n",
    "    </pattern>\n",
    "    <pattern id=\"diamondpattern\" x=\"0\" y=\"0\" width=\"98.468598\" height=\"147.157176\" patternUnits=\"userSpaceOnUse\" patternTransform=\"scale(0.2)\">\n",
    "      <path id=\"base-diamond\" d=\"M49.234,5.327L94.904,73.579L49.234,141.83L3.564,73.579L49.234,5.327Z\" style=\"fill:rgb(18,159,212);\"/>\n",
    "      <use href=\"#base-diamond\" transform=\"translate(-49.234299,73.578588)\" />\n",
    "      <use href=\"#base-diamond\" transform=\"translate(49.234299,73.578588)\" />\n",
    "      <use href=\"#base-diamond\" transform=\"translate(-49.234299,-73.578588)\" />\n",
    "      <use href=\"#base-diamond\" transform=\"translate(49.234299,-73.578588)\" />\n",
    "    </pattern>\n",
    "    <pattern id=\"stripepattern\" x=\"0\" y=\"0\" width=\"200\" height=\"50\" patternUnits=\"userSpaceOnUse\" patternTransform=\"scale(0.2)\">\n",
    "      <rect id=\"stripe-base\" x=\"0\" y=\"0\" width=\"200\" height=\"42.5\" fill=\"#757575\"/>\n",
    "    </pattern>\n",
    "    <pattern id=\"tristarpattern\" x=\"0\" y=\"0\" width=\"163.75391\" height=\"94.588954\" patternUnits=\"userSpaceOnUse\" patternTransform=\"scale(0.2)\">\n",
    "      <path id=\"base-tristar1\" transform=\"translate(-48.984362,0)\" d=\"M24.492,56.562L0,42.422L0,14.141L24.492,0L48.984,14.141L73.477,0L97.969,14.141L97.969,42.422L73.477,56.562L73.477,84.843L48.984,98.984L24.492,84.843L24.492,56.562Z\" style=\"fill:rgb(76,167,43);\"/>\n",
    "      <path id=\"base-tristar2\" transform=\"translate(-48.984362,0)\" d=\"M155.353,47.316L179.846,61.457L179.846,89.738L155.353,103.879L130.861,89.738L106.369,103.879L81.877,89.738L81.877,61.457L106.369,47.316L106.369,19.035L130.861,4.895L155.353,19.035L155.353,47.316Z\" style=\"fill:rgb(76,167,43);\"/>\n",
    "      <use href=\"#base-tristar1\" transform=\"translate(163.75391,0)\"/>\n",
    "      <use href=\"#base-tristar1\" transform=\"translate(163.75391,-94.588954)\"/>\n",
    "      <use href=\"#base-tristar1\" transform=\"translate(0,-94.588954)\"/>\n",
    "      <use href=\"#base-tristar2\" transform=\"translate(0,-94.588954)\" />\n",
    "    </pattern>\n",
    "    <pattern id=\"squarepattern\" x=\"0\" y=\"0\" width=\"85.029182\" height=\"85.029182\" patternUnits=\"userSpaceOnUse\" patternTransform=\"scale(0.2)\">\n",
    "      <rect x=\"0\" y=\"0\" width=\"78.955669\" height=\"78.955669\" fill=\"#BD0F77\"/>\n",
    "    </pattern>\n",
    "    <pattern id=\"trianglepattern\" x=\"0\" y=\"0\" width=\"133.725\" height=\"231.618494\" patternUnits=\"userSpaceOnUse\" patternTransform=\"scale(0.2)\">\n",
    "      <path id=\"base-triangle\" d=\"M-0,103.923L60,0L-60,0L-0,103.923Z\" style=\"fill:rgb(205,132,2);\"/>\n",
    "      <use href=\"#base-triangle\" transform=\"translate(66.8625,115.809247)\" />\n",
    "      <use href=\"#base-triangle\" transform=\"translate(66.8625,107.885115) rotate(180)\" />\n",
    "      <use href=\"#base-triangle\" transform=\"translate(133.725,0)\" />\n",
    "      <use href=\"#base-triangle\" transform=\"translate(133.725,223.694362) rotate(180)\" />\n",
    "      <use href=\"#base-triangle\" transform=\"translate(0,223.694362) rotate(180)\" />\n",
    "    </pattern>\n",
    "    <pattern id=\"crosspattern\" x=\"0\" y=\"0\" width=\"86.166304\" height=\"86.166304\" patternUnits=\"userSpaceOnUse\" patternTransform=\"rotate(16.84402287240401) scale(0.2)\">\n",
    "      <path id=\"base-cross\" d=\"M9.427,-55.029L40.559,-38.367L23.897,-7.235L55.029,9.427L38.367,40.559L7.235,23.897L-9.427,55.029L-40.559,38.367L-23.897,7.235L-55.029,-9.427L-38.367,-40.559L-7.235,-23.897L9.427,-55.029Z\" style=\"fill:rgb(222,40,23);\"/>\n",
    "      <use href=\"#base-cross\" transform=\"translate(86.166304,0)\"/>\n",
    "      <use href=\"#base-cross\" transform=\"translate(86.166304,86.166304)\"/>\n",
    "      <use href=\"#base-cross\" transform=\"translate(0,86.166304)\"/>\n",
    "    </pattern>\n",
    "    <pattern id=\"spiralpattern\" x=\"0\" y=\"0\" width=\"141.305462\" height=\"80.921615\" patternUnits=\"userSpaceOnUse\" patternTransform=\"skewX(-10.342516055954842) scale(0.3)\"   style=\"fill-rule:evenodd;clip-rule:evenodd;stroke-linecap:round;stroke-linejoin:round;stroke-miterlimit:1;\">\n",
    "      <g id=\"base-spiral\" transform=\"matrix(0.571164,-0.0466398,0.152429,0.579676,-0.714298,6.4775)\">\n",
    "        <path d=\"M82.17,0C81.17,-44.829 44.829,-81.17 -0,-81.17C-40.754,-81.17 -73.791,-48.133 -73.791,-7.379C-73.791,28.846 -44.424,58.213 -8.199,58.213C23.498,58.213 49.194,32.517 49.194,0.82C49.194,-26.349 27.169,-48.374 -0,-48.374C-22.641,-48.374 -40.995,-30.02 -40.995,-7.379C-40.995,10.734 -26.312,25.417 -8.199,25.417C5.386,25.417 16.398,14.404 16.398,0.82C16.398,-8.236 9.056,-15.578 -0,-15.578C-4.528,-15.578 -8.199,-11.907 -8.199,-7.379\" style=\"fill:none;stroke:rgb(6,99,181);stroke-width:21.36px;\"/>\n",
    "      </g>\n",
    "      <use href=\"#base-spiral\" transform=\"translate(70.6527313,40.460808)\" />\n",
    "      <use href=\"#base-spiral\" transform=\"translate(141.305463,0)\" />\n",
    "      <use href=\"#base-spiral\" transform=\"translate(141.305463,80.921616)\" />\n",
    "      <use href=\"#base-spiral\" transform=\"translate(141.305463,80.921616)\" />\n",
    "      <use href=\"#base-spiral\" transform=\"translate(0,80.921616)\" />\n",
    "      <use href=\"#base-spiral\" transform=\"translate(70.652732,-40.460807)\" />\n",
    "    </pattern>\n",
    "    <pattern id=\"caretpattern\" x=\"0\" y=\"0\" width=\"199.471926\" height=\"70.537835\" patternUnits=\"userSpaceOnUse\" patternTransform=\"scale(0.2)\">\n",
    "        <path id=\"base-caret\" d=\"M-48.35,13.081L0,-35.269L48.35,13.081\" style=\"fill:none;stroke:rgb(0,133,120);stroke-width:45.59px;\"/>\n",
    "        <use href=\"#base-caret\" transform=\"translate(99.735963,35.268917)\" />\n",
    "        <use href=\"#base-caret\" transform=\"translate(99.735963,105.806752)\" />\n",
    "        <use href=\"#base-caret\" transform=\"translate(0,70.537835)\" />\n",
    "        <use href=\"#base-caret\" transform=\"translate(199.471926,0)\" />\n",
    "        <use href=\"#base-caret\" transform=\"translate(199.471926,70.537835)\" />\n",
    "    </pattern>\n",
    "  </defs>\n",
    "</svg>\n"
   ]
  },
  {
   "cell_type": "code",
   "execution_count": 2,
   "metadata": {},
   "outputs": [],
   "source": [
    "import altair as alt\n",
    "import pandas as pd\n",
    "\n",
    "# Daten definieren\n",
    "data = pd.DataFrame({\n",
    "    \"category\": [\"Purple\", \"Teal\", \"Orange\", \"Blue\", \"Red\", \"Cyan\", \"Magenta\", \"Green\"],\n",
    "    \"value\": [90, 80, 50, 55, 50, 60, 40, 80],\n",
    "    \"pattern\": [\n",
    "        \"pattern_0\",\n",
    "        \"pattern_1\",\n",
    "        \"pattern_2\",\n",
    "        \"pattern_3\",\n",
    "        \"pattern_4\",\n",
    "        \"pattern_5\",\n",
    "        \"pattern_6\",\n",
    "        \"pattern_7\"\n",
    "    ]\n",
    "})\n",
    "\n",
    "chart = alt.Chart(data, title=\"cusy Pattern Example\", width=600, height=400).mark_bar(stroke=None).encode(\n",
    "    x=alt.X(\"category:N\",\n",
    "            sort=[\"Purple\", \"Teal\", \"Orange\", \"Blue\", \"Red\", \"Cyan\", \"Magenta\", \"Green\"],\n",
    "            axis=alt.Axis(title=None, labelAngle=0)),\n",
    "    y=alt.Y(\"value:Q\", axis=alt.Axis(title=None)),\n",
    "    fill=alt.Fill(\"pattern:N\",\n",
    "                  scale=alt.Scale(\n",
    "                      range=[\n",
    "                          \"url(#dotspattern)\",\n",
    "                          \"url(#caretpattern)\",\n",
    "                          \"url(#trianglepattern)\",\n",
    "                          \"url(#spiralpattern)\",\n",
    "                          \"url(#crosspattern)\",\n",
    "                          \"url(#diamondpattern)\",\n",
    "                          \"url(#squarepattern)\",\n",
    "                          \"url(#tristarpattern)\",\n",
    "                      ]\n",
    "                  ),\n",
    "                  legend=None)\n",
    ")"
   ]
  },
  {
   "cell_type": "markdown",
   "metadata": {},
   "source": [
    "Mit `renderers.enable('svg', bundle_data=True)` wird das SVG als `<img>` integriert, weshalb wir keinen Zugriff auf die Pattern haben, dafür werden wir die externen Dependencies los (bis auf require.js... muss noch schauen wo das veränderbar ist)  \n",
    "`bundle_data=True` integriert das benötigte JS in die Chart-Spezifikationen"
   ]
  },
  {
   "cell_type": "code",
   "execution_count": 3,
   "metadata": {},
   "outputs": [
    {
     "data": {
      "image/svg+xml": [
       "<svg xmlns=\"http://www.w3.org/2000/svg\" xmlns:xlink=\"http://www.w3.org/1999/xlink\" version=\"1.1\" class=\"marks\" width=\"629\" height=\"449\" viewBox=\"0 0 629 449\"><rect width=\"629\" height=\"449\" fill=\"white\"/><g fill=\"none\" stroke-miterlimit=\"10\" transform=\"translate(24,27)\"><g class=\"mark-group role-frame root\" role=\"graphics-object\" aria-roledescription=\"group mark container\"><g transform=\"translate(0,0)\"><path class=\"background\" aria-hidden=\"true\" d=\"M0.5,0.5h600v400h-600Z\" stroke=\"#ddd\"/><g><g class=\"mark-group role-axis\" aria-hidden=\"true\"><g transform=\"translate(0.5,0.5)\"><path class=\"background\" aria-hidden=\"true\" d=\"M0,0h0v0h0Z\" pointer-events=\"none\"/><g><g class=\"mark-rule role-axis-grid\" pointer-events=\"none\"><line transform=\"translate(0,400)\" x2=\"600\" y2=\"0\" stroke=\"#ddd\" stroke-width=\"1\" opacity=\"1\"/><line transform=\"translate(0,356)\" x2=\"600\" y2=\"0\" stroke=\"#ddd\" stroke-width=\"1\" opacity=\"1\"/><line transform=\"translate(0,311)\" x2=\"600\" y2=\"0\" stroke=\"#ddd\" stroke-width=\"1\" opacity=\"1\"/><line transform=\"translate(0,267)\" x2=\"600\" y2=\"0\" stroke=\"#ddd\" stroke-width=\"1\" opacity=\"1\"/><line transform=\"translate(0,222)\" x2=\"600\" y2=\"0\" stroke=\"#ddd\" stroke-width=\"1\" opacity=\"1\"/><line transform=\"translate(0,178)\" x2=\"600\" y2=\"0\" stroke=\"#ddd\" stroke-width=\"1\" opacity=\"1\"/><line transform=\"translate(0,133)\" x2=\"600\" y2=\"0\" stroke=\"#ddd\" stroke-width=\"1\" opacity=\"1\"/><line transform=\"translate(0,89)\" x2=\"600\" y2=\"0\" stroke=\"#ddd\" stroke-width=\"1\" opacity=\"1\"/><line transform=\"translate(0,44)\" x2=\"600\" y2=\"0\" stroke=\"#ddd\" stroke-width=\"1\" opacity=\"1\"/><line transform=\"translate(0,0)\" x2=\"600\" y2=\"0\" stroke=\"#ddd\" stroke-width=\"1\" opacity=\"1\"/></g></g><path class=\"foreground\" aria-hidden=\"true\" d=\"\" pointer-events=\"none\" display=\"none\"/></g></g><g class=\"mark-group role-axis\" role=\"graphics-symbol\" aria-roledescription=\"axis\" aria-label=\"X-axis for a discrete scale with 8 values: Purple, Teal, Orange, Blue, Red, ending with Green\"><g transform=\"translate(0.5,400.5)\"><path class=\"background\" aria-hidden=\"true\" d=\"M0,0h0v0h0Z\" pointer-events=\"none\"/><g><g class=\"mark-rule role-axis-tick\" pointer-events=\"none\"><line transform=\"translate(37,0)\" x2=\"0\" y2=\"5\" stroke=\"#888\" stroke-width=\"1\" opacity=\"1\"/><line transform=\"translate(112,0)\" x2=\"0\" y2=\"5\" stroke=\"#888\" stroke-width=\"1\" opacity=\"1\"/><line transform=\"translate(187,0)\" x2=\"0\" y2=\"5\" stroke=\"#888\" stroke-width=\"1\" opacity=\"1\"/><line transform=\"translate(262,0)\" x2=\"0\" y2=\"5\" stroke=\"#888\" stroke-width=\"1\" opacity=\"1\"/><line transform=\"translate(337,0)\" x2=\"0\" y2=\"5\" stroke=\"#888\" stroke-width=\"1\" opacity=\"1\"/><line transform=\"translate(412,0)\" x2=\"0\" y2=\"5\" stroke=\"#888\" stroke-width=\"1\" opacity=\"1\"/><line transform=\"translate(487,0)\" x2=\"0\" y2=\"5\" stroke=\"#888\" stroke-width=\"1\" opacity=\"1\"/><line transform=\"translate(562,0)\" x2=\"0\" y2=\"5\" stroke=\"#888\" stroke-width=\"1\" opacity=\"1\"/></g><g class=\"mark-text role-axis-label\" pointer-events=\"none\"><text text-anchor=\"middle\" transform=\"translate(37,15)\" font-family=\"sans-serif\" font-size=\"10px\" fill=\"#000\" opacity=\"1\">Purple</text><text text-anchor=\"middle\" transform=\"translate(112,15)\" font-family=\"sans-serif\" font-size=\"10px\" fill=\"#000\" opacity=\"1\">Teal</text><text text-anchor=\"middle\" transform=\"translate(187,15)\" font-family=\"sans-serif\" font-size=\"10px\" fill=\"#000\" opacity=\"1\">Orange</text><text text-anchor=\"middle\" transform=\"translate(262,15)\" font-family=\"sans-serif\" font-size=\"10px\" fill=\"#000\" opacity=\"1\">Blue</text><text text-anchor=\"middle\" transform=\"translate(337,15)\" font-family=\"sans-serif\" font-size=\"10px\" fill=\"#000\" opacity=\"1\">Red</text><text text-anchor=\"middle\" transform=\"translate(412,15)\" font-family=\"sans-serif\" font-size=\"10px\" fill=\"#000\" opacity=\"1\">Cyan</text><text text-anchor=\"middle\" transform=\"translate(487,15)\" font-family=\"sans-serif\" font-size=\"10px\" fill=\"#000\" opacity=\"1\">Magenta</text><text text-anchor=\"middle\" transform=\"translate(562,15)\" font-family=\"sans-serif\" font-size=\"10px\" fill=\"#000\" opacity=\"1\">Green</text></g><g class=\"mark-rule role-axis-domain\" pointer-events=\"none\"><line transform=\"translate(0,0)\" x2=\"600\" y2=\"0\" stroke=\"#888\" stroke-width=\"1\" opacity=\"1\"/></g></g><path class=\"foreground\" aria-hidden=\"true\" d=\"\" pointer-events=\"none\" display=\"none\"/></g></g><g class=\"mark-group role-axis\" role=\"graphics-symbol\" aria-roledescription=\"axis\" aria-label=\"Y-axis for a linear scale with values from 0 to 90\"><g transform=\"translate(0.5,0.5)\"><path class=\"background\" aria-hidden=\"true\" d=\"M0,0h0v0h0Z\" pointer-events=\"none\"/><g><g class=\"mark-rule role-axis-tick\" pointer-events=\"none\"><line transform=\"translate(0,400)\" x2=\"-5\" y2=\"0\" stroke=\"#888\" stroke-width=\"1\" opacity=\"1\"/><line transform=\"translate(0,356)\" x2=\"-5\" y2=\"0\" stroke=\"#888\" stroke-width=\"1\" opacity=\"1\"/><line transform=\"translate(0,311)\" x2=\"-5\" y2=\"0\" stroke=\"#888\" stroke-width=\"1\" opacity=\"1\"/><line transform=\"translate(0,267)\" x2=\"-5\" y2=\"0\" stroke=\"#888\" stroke-width=\"1\" opacity=\"1\"/><line transform=\"translate(0,222)\" x2=\"-5\" y2=\"0\" stroke=\"#888\" stroke-width=\"1\" opacity=\"1\"/><line transform=\"translate(0,178)\" x2=\"-5\" y2=\"0\" stroke=\"#888\" stroke-width=\"1\" opacity=\"1\"/><line transform=\"translate(0,133)\" x2=\"-5\" y2=\"0\" stroke=\"#888\" stroke-width=\"1\" opacity=\"1\"/><line transform=\"translate(0,89)\" x2=\"-5\" y2=\"0\" stroke=\"#888\" stroke-width=\"1\" opacity=\"1\"/><line transform=\"translate(0,44)\" x2=\"-5\" y2=\"0\" stroke=\"#888\" stroke-width=\"1\" opacity=\"1\"/><line transform=\"translate(0,0)\" x2=\"-5\" y2=\"0\" stroke=\"#888\" stroke-width=\"1\" opacity=\"1\"/></g><g class=\"mark-text role-axis-label\" pointer-events=\"none\"><text text-anchor=\"end\" transform=\"translate(-7,403)\" font-family=\"sans-serif\" font-size=\"10px\" fill=\"#000\" opacity=\"1\">0</text><text text-anchor=\"end\" transform=\"translate(-7,358.55555555555554)\" font-family=\"sans-serif\" font-size=\"10px\" fill=\"#000\" opacity=\"1\">10</text><text text-anchor=\"end\" transform=\"translate(-7,314.11111111111114)\" font-family=\"sans-serif\" font-size=\"10px\" fill=\"#000\" opacity=\"1\">20</text><text text-anchor=\"end\" transform=\"translate(-7,269.6666666666667)\" font-family=\"sans-serif\" font-size=\"10px\" fill=\"#000\" opacity=\"1\">30</text><text text-anchor=\"end\" transform=\"translate(-7,225.22222222222223)\" font-family=\"sans-serif\" font-size=\"10px\" fill=\"#000\" opacity=\"1\">40</text><text text-anchor=\"end\" transform=\"translate(-7,180.77777777777777)\" font-family=\"sans-serif\" font-size=\"10px\" fill=\"#000\" opacity=\"1\">50</text><text text-anchor=\"end\" transform=\"translate(-7,136.33333333333334)\" font-family=\"sans-serif\" font-size=\"10px\" fill=\"#000\" opacity=\"1\">60</text><text text-anchor=\"end\" transform=\"translate(-7,91.88888888888889)\" font-family=\"sans-serif\" font-size=\"10px\" fill=\"#000\" opacity=\"1\">70</text><text text-anchor=\"end\" transform=\"translate(-7,47.444444444444464)\" font-family=\"sans-serif\" font-size=\"10px\" fill=\"#000\" opacity=\"1\">80</text><text text-anchor=\"end\" transform=\"translate(-7,3)\" font-family=\"sans-serif\" font-size=\"10px\" fill=\"#000\" opacity=\"1\">90</text></g><g class=\"mark-rule role-axis-domain\" pointer-events=\"none\"><line transform=\"translate(0,400)\" x2=\"0\" y2=\"-400\" stroke=\"#888\" stroke-width=\"1\" opacity=\"1\"/></g></g><path class=\"foreground\" aria-hidden=\"true\" d=\"\" pointer-events=\"none\" display=\"none\"/></g></g><g class=\"mark-rect role-mark marks\" role=\"graphics-object\" aria-roledescription=\"rect mark container\"><path aria-label=\"category: Purple; value: 90; pattern: pattern_0\" role=\"graphics-symbol\" aria-roledescription=\"bar\" d=\"M3.75,0h67.5v400h-67.5Z\" fill=\"url(#dotspattern)\"/><path aria-label=\"category: Teal; value: 80; pattern: pattern_1\" role=\"graphics-symbol\" aria-roledescription=\"bar\" d=\"M78.75,44.444444444444464h67.5v355.55555555555554h-67.5Z\" fill=\"url(#caretpattern)\"/><path aria-label=\"category: Orange; value: 50; pattern: pattern_2\" role=\"graphics-symbol\" aria-roledescription=\"bar\" d=\"M153.75,177.77777777777777h67.5v222.22222222222223h-67.5Z\" fill=\"url(#trianglepattern)\"/><path aria-label=\"category: Blue; value: 55; pattern: pattern_3\" role=\"graphics-symbol\" aria-roledescription=\"bar\" d=\"M228.75,155.55555555555554h67.5v244.44444444444446h-67.5Z\" fill=\"url(#spiralpattern)\"/><path aria-label=\"category: Red; value: 50; pattern: pattern_4\" role=\"graphics-symbol\" aria-roledescription=\"bar\" d=\"M303.75,177.77777777777777h67.5v222.22222222222223h-67.5Z\" fill=\"url(#crosspattern)\"/><path aria-label=\"category: Cyan; value: 60; pattern: pattern_5\" role=\"graphics-symbol\" aria-roledescription=\"bar\" d=\"M378.75,133.33333333333334h67.5v266.66666666666663h-67.5Z\" fill=\"url(#diamondpattern)\"/><path aria-label=\"category: Magenta; value: 40; pattern: pattern_6\" role=\"graphics-symbol\" aria-roledescription=\"bar\" d=\"M453.75,222.22222222222223h67.5v177.77777777777777h-67.5Z\" fill=\"url(#squarepattern)\"/><path aria-label=\"category: Green; value: 80; pattern: pattern_7\" role=\"graphics-symbol\" aria-roledescription=\"bar\" d=\"M528.75,44.444444444444464h67.5v355.55555555555554h-67.5Z\" fill=\"url(#tristarpattern)\"/></g><g class=\"mark-group role-title\"><g transform=\"translate(300,-22)\"><path class=\"background\" aria-hidden=\"true\" d=\"M0,0h0v0h0Z\" pointer-events=\"none\"/><g><g class=\"mark-text role-title-text\" role=\"graphics-symbol\" aria-roledescription=\"title\" aria-label=\"Title text 'cusy Pattern Example'\" pointer-events=\"none\"><text text-anchor=\"middle\" transform=\"translate(0,10)\" font-family=\"sans-serif\" font-size=\"13px\" font-weight=\"bold\" fill=\"#000\" opacity=\"1\">cusy Pattern Example</text></g></g><path class=\"foreground\" aria-hidden=\"true\" d=\"\" pointer-events=\"none\" display=\"none\"/></g></g></g><path class=\"foreground\" aria-hidden=\"true\" d=\"\" display=\"none\"/></g></g></g></svg>"
      ],
      "text/plain": [
       "alt.Chart(...)"
      ]
     },
     "execution_count": 3,
     "metadata": {},
     "output_type": "execute_result"
    }
   ],
   "source": [
    "alt.renderers.enable('svg', bundle_data=True)\n",
    "\n",
    "chart"
   ]
  }
 ],
 "metadata": {
  "kernelspec": {
   "display_name": ".venv",
   "language": "python",
   "name": "python3"
  },
  "language_info": {
   "codemirror_mode": {
    "name": "ipython",
    "version": 3
   },
   "file_extension": ".py",
   "mimetype": "text/x-python",
   "name": "python",
   "nbconvert_exporter": "python",
   "pygments_lexer": "ipython3",
   "version": "3.12.4"
  }
 },
 "nbformat": 4,
 "nbformat_minor": 4
}
